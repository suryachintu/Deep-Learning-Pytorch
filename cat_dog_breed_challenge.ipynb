{
  "nbformat": 4,
  "nbformat_minor": 0,
  "metadata": {
    "colab": {
      "name": "cat_dog_breed_challenge.ipynb",
      "version": "0.3.2",
      "provenance": [],
      "collapsed_sections": [],
      "include_colab_link": true
    },
    "kernelspec": {
      "name": "python3",
      "display_name": "Python 3"
    }
  },
  "cells": [
    {
      "cell_type": "markdown",
      "metadata": {
        "id": "view-in-github",
        "colab_type": "text"
      },
      "source": [
        "<a href=\"https://colab.research.google.com/github/suryachintu/Deep-Learning-Pytorch/blob/master/cat_dog_breed_challenge.ipynb\" target=\"_parent\"><img src=\"https://colab.research.google.com/assets/colab-badge.svg\" alt=\"Open In Colab\"/></a>"
      ]
    },
    {
      "metadata": {
        "id": "Ugduzb2FG8Rm",
        "colab_type": "code",
        "colab": {}
      },
      "cell_type": "code",
      "source": [
        "# install pytorch"
      ],
      "execution_count": 0,
      "outputs": []
    },
    {
      "metadata": {
        "id": "Z8BLE4uJHJRG",
        "colab_type": "code",
        "colab": {}
      },
      "cell_type": "code",
      "source": [
        "# download or load dataset"
      ],
      "execution_count": 0,
      "outputs": []
    },
    {
      "metadata": {
        "id": "cEhdz_IgHQF-",
        "colab_type": "code",
        "colab": {}
      },
      "cell_type": "code",
      "source": [
        "# import packages"
      ],
      "execution_count": 0,
      "outputs": []
    },
    {
      "metadata": {
        "id": "LcX3UMFqHgr1",
        "colab_type": "text"
      },
      "cell_type": "markdown",
      "source": [
        "## Data Loading"
      ]
    },
    {
      "metadata": {
        "id": "GkIx7lOAHcrN",
        "colab_type": "code",
        "colab": {}
      },
      "cell_type": "code",
      "source": [
        "# 1. Define transforms\n",
        "# 2. load train data and test data from image folder and apply transformations\n",
        "# 3. prepare validation set\n",
        "# 4. prepare dataloaders for test, train and validation sets"
      ],
      "execution_count": 0,
      "outputs": []
    },
    {
      "metadata": {
        "id": "P6xoFEKDIzKk",
        "colab_type": "text"
      },
      "cell_type": "markdown",
      "source": [
        "## Data Analysis"
      ]
    },
    {
      "metadata": {
        "id": "YrAOu95sIyIJ",
        "colab_type": "code",
        "colab": {}
      },
      "cell_type": "code",
      "source": [
        "# 1. Count train, test, validation samples\n",
        "# 2. display train set images"
      ],
      "execution_count": 0,
      "outputs": []
    },
    {
      "metadata": {
        "id": "8NJKhH6tJKQT",
        "colab_type": "text"
      },
      "cell_type": "markdown",
      "source": [
        "##  Load pretrained dataset"
      ]
    },
    {
      "metadata": {
        "id": "CwpuM_udJJZj",
        "colab_type": "code",
        "colab": {}
      },
      "cell_type": "code",
      "source": [
        "# 1. Use densenet model\n",
        "# 2. Freeze parameters so we don't backprop through them\n",
        "# 3. Define classifer\n",
        "# 4. Load saved densenet model"
      ],
      "execution_count": 0,
      "outputs": []
    },
    {
      "metadata": {
        "id": "ZQ3oZXQDJ1YE",
        "colab_type": "text"
      },
      "cell_type": "markdown",
      "source": [
        "## Loss and Optimizer"
      ]
    },
    {
      "metadata": {
        "id": "OkSRnhfiJ0s7",
        "colab_type": "code",
        "colab": {}
      },
      "cell_type": "code",
      "source": [
        "# 1. Define loss function\n",
        "# 2. Choose optimizer\n",
        "# 3. define only model classifier params"
      ],
      "execution_count": 0,
      "outputs": []
    },
    {
      "metadata": {
        "id": "kXVyW7ebKjTW",
        "colab_type": "text"
      },
      "cell_type": "markdown",
      "source": [
        "## Training the model for Cat/Dog"
      ]
    },
    {
      "metadata": {
        "id": "0HkG17qsKh7D",
        "colab_type": "code",
        "colab": {}
      },
      "cell_type": "code",
      "source": [
        "# 1. Define epochs, validation loss minimum\n",
        "# 2. Iterate through the training batches\n",
        "# ------Training---------\n",
        "# 3. for every training batch\n",
        "      # a) Make forward pass and calculate outputs\n",
        "      # b) Calculate loss with outputs and target labels\n",
        "      # c) Make backward pass and calculate gradients\n",
        "      # d) Update the weights\n",
        "      # e) Calculate training loss per batch\n",
        "# ------Validation-------\n",
        "# 4. for every validation batch\n",
        "      # a) Make forward pass and calculate outputs\n",
        "      # b) Calculate loss with outputs and target labels\n",
        "      # c) Calculate validation loss per batch\n",
        "# 5. Calculate avg training loss\n",
        "# 6. Calculate avg validation loss\n",
        "# 7. Save the model if validation loss is less than previous one\n",
        "# 8. Repeat step 1  "
      ],
      "execution_count": 0,
      "outputs": []
    },
    {
      "metadata": {
        "colab_type": "text",
        "id": "hdaII5IbOCZM"
      },
      "cell_type": "markdown",
      "source": [
        "## Test the model for Cat/Dog"
      ]
    },
    {
      "metadata": {
        "colab_type": "code",
        "id": "olP3MVDsOCZP",
        "colab": {}
      },
      "cell_type": "code",
      "source": [
        "# 1. Iterate through the testing batches\n",
        "# 2. for every test batch\n",
        "      # a) Make forward pass and calculate outputs\n",
        "      # b) Calculate loss with outputs and target labels\n",
        "      # e) Calculate test loss per batch\n",
        "# 3. Calculate avg test loss"
      ],
      "execution_count": 0,
      "outputs": []
    }
  ]
}